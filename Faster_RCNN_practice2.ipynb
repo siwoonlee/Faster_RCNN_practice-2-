{
  "nbformat": 4,
  "nbformat_minor": 0,
  "metadata": {
    "colab": {
      "name": "Faster_RCNN_practice2.ipynb",
      "provenance": [],
      "collapsed_sections": []
    },
    "kernelspec": {
      "name": "python3",
      "display_name": "Python 3"
    }
  },
  "cells": [
    {
      "cell_type": "code",
      "metadata": {
        "id": "m1VcQ4ahy9If"
      },
      "source": [
        "!pip install tensorflow-gpu==2.1\r\n",
        "import tensorflow as tf\r\n",
        "print(tf.__version__)"
      ],
      "execution_count": null,
      "outputs": []
    },
    {
      "cell_type": "code",
      "metadata": {
        "id": "0MT2jSG2zCi_"
      },
      "source": [
        "!git clone https://github.com/siwoonlee/Faster_RCNN_practice-2-.git"
      ],
      "execution_count": null,
      "outputs": []
    },
    {
      "cell_type": "code",
      "metadata": {
        "id": "d5xJDH22zh9E"
      },
      "source": [
        "cd Faster_RCNN_practice-2-"
      ],
      "execution_count": null,
      "outputs": []
    },
    {
      "cell_type": "code",
      "metadata": {
        "id": "PyuTftbPzMuk"
      },
      "source": [
        "import os\r\n",
        "# os.environ['CUDA_VISIBLE_DEVICES'] = '-1'\r\n",
        "import tensorflow as tf\r\n",
        "from tensorflow.keras.callbacks import ModelCheckpoint, TensorBoard\r\n",
        "from utils import io_utils, data_utils, train_utils, bbox_utils\r\n",
        "from models import faster_rcnn\r\n",
        "from models.rpn_mobilenet_v2 import get_model as get_rpn_model"
      ],
      "execution_count": 56,
      "outputs": []
    },
    {
      "cell_type": "code",
      "metadata": {
        "id": "UHr93KLOzMyN"
      },
      "source": [
        "batch_size = 2\r\n",
        "epochs = 3\r\n",
        "load_weights = False\r\n",
        "backbone = 'mobilenet_v2'\r\n",
        "hyper_params = train_utils.get_hyper_params(backbone)\r\n",
        "\r\n",
        "train_data, dataset_info = data_utils.get_dataset(\"voc/2007\", \"train\")\r\n",
        "val_data, _ = data_utils.get_dataset(\"voc/2007\", \"test\")\r\n",
        "train_total_items = data_utils.get_total_item_size(dataset_info, \"train\")\r\n",
        "val_total_items = data_utils.get_total_item_size(dataset_info, \"test\")"
      ],
      "execution_count": 57,
      "outputs": []
    },
    {
      "cell_type": "code",
      "metadata": {
        "id": "Gadj8OpLzM2-"
      },
      "source": [
        "labels = data_utils.get_labels(dataset_info)\r\n",
        "# We add 1 class for background\r\n",
        "hyper_params[\"total_labels\"] = len(labels) + 1\r\n",
        "#\r\n",
        "img_size = hyper_params[\"img_size\"]\r\n",
        "train_data = train_data.map(lambda x : data_utils.preprocessing(x, img_size, img_size, apply_augmentation=True))\r\n",
        "val_data = val_data.map(lambda x : data_utils.preprocessing(x, img_size, img_size))"
      ],
      "execution_count": 58,
      "outputs": []
    },
    {
      "cell_type": "code",
      "metadata": {
        "id": "Y1qOrhI9zM6a"
      },
      "source": [
        "data_shapes = data_utils.get_data_shapes()\r\n",
        "padding_values = data_utils.get_padding_values()\r\n",
        "train_data = train_data.padded_batch(batch_size, padded_shapes=data_shapes, padding_values=padding_values)\r\n",
        "val_data = val_data.padded_batch(batch_size, padded_shapes=data_shapes, padding_values=padding_values)"
      ],
      "execution_count": 59,
      "outputs": []
    },
    {
      "cell_type": "code",
      "metadata": {
        "id": "or-MaZoWzV75"
      },
      "source": [
        "anchors = bbox_utils.generate_anchors(hyper_params)"
      ],
      "execution_count": 60,
      "outputs": []
    },
    {
      "cell_type": "code",
      "metadata": {
        "id": "5J5lQK0c212i"
      },
      "source": [
        "print(anchors)\r\n",
        "print(anchors.shape)"
      ],
      "execution_count": null,
      "outputs": []
    },
    {
      "cell_type": "code",
      "metadata": {
        "id": "O4uaUyed2UF0"
      },
      "source": [
        "frcnn_train_feed = train_utils.faster_rcnn_generator(train_data, anchors, hyper_params)\r\n",
        "frcnn_val_feed = train_utils.faster_rcnn_generator(val_data, anchors, hyper_params)"
      ],
      "execution_count": 61,
      "outputs": []
    },
    {
      "cell_type": "code",
      "metadata": {
        "id": "kL0KDhMyzV-E"
      },
      "source": [
        "rpn_model, feature_extractor = get_rpn_model(hyper_params)\r\n",
        "frcnn_model = faster_rcnn.get_model(feature_extractor, rpn_model, anchors, hyper_params)\r\n",
        "frcnn_model.compile(optimizer=tf.optimizers.Adam(learning_rate=1e-5),\r\n",
        "                    loss=[None] * len(frcnn_model.output))\r\n",
        "faster_rcnn.init_model(frcnn_model, hyper_params)"
      ],
      "execution_count": null,
      "outputs": []
    },
    {
      "cell_type": "code",
      "metadata": {
        "id": "rnoKYXxqzWAA"
      },
      "source": [
        "rpn_load_weights = False\r\n",
        "if rpn_load_weights:\r\n",
        "    rpn_model_path = io_utils.get_model_path(\"rpn\", backbone)\r\n",
        "    rpn_model.load_weights(rpn_model_path)\r\n",
        "# Load weights\r\n",
        "frcnn_model_path = io_utils.get_model_path(\"faster_rcnn\", backbone)"
      ],
      "execution_count": 63,
      "outputs": []
    },
    {
      "cell_type": "code",
      "metadata": {
        "id": "k0jJiOGYzWCH"
      },
      "source": [
        "if load_weights:\r\n",
        "    frcnn_model.load_weights(frcnn_model_path)\r\n",
        "log_path = io_utils.get_log_path(\"faster_rcnn\", backbone)\r\n",
        "\r\n",
        "checkpoint_callback = ModelCheckpoint(frcnn_model_path, monitor=\"val_loss\", save_best_only=True, save_weights_only=True)\r\n",
        "tensorboard_callback = TensorBoard(log_dir=log_path)"
      ],
      "execution_count": 64,
      "outputs": []
    },
    {
      "cell_type": "code",
      "metadata": {
        "id": "kBZwD0NVzWEN"
      },
      "source": [
        "# step_size_train = train_utils.get_step_size(train_total_items, batch_size)\r\n",
        "# step_size_val = train_utils.get_step_size(val_total_items, batch_size)\r\n",
        "step_size_train = 5\r\n",
        "step_size_val = 2"
      ],
      "execution_count": 65,
      "outputs": []
    },
    {
      "cell_type": "code",
      "metadata": {
        "id": "knqFWvtPzWG7"
      },
      "source": [
        "frcnn_model.fit(frcnn_train_feed,\r\n",
        "                steps_per_epoch=step_size_train,\r\n",
        "                validation_data=frcnn_val_feed,\r\n",
        "                validation_steps=step_size_val,\r\n",
        "                epochs=epochs,\r\n",
        "                callbacks=[checkpoint_callback, tensorboard_callback])"
      ],
      "execution_count": null,
      "outputs": []
    },
    {
      "cell_type": "code",
      "metadata": {
        "id": "prl5wbtH6ScN"
      },
      "source": [
        "%load_ext tensorboard\r\n",
        "%tensorboard --logdir ./logs"
      ],
      "execution_count": null,
      "outputs": []
    },
    {
      "cell_type": "code",
      "metadata": {
        "id": "sumWv620Gq44"
      },
      "source": [
        "!pip install tensorflow-gpu==2.3\r\n",
        "import tensorflow as tf\r\n",
        "print(tf.__version__)"
      ],
      "execution_count": null,
      "outputs": []
    },
    {
      "cell_type": "code",
      "metadata": {
        "id": "0V0ozuogzWIH"
      },
      "source": [
        "from utils import io_utils, data_utils, train_utils, bbox_utils, drawing_utils, eval_utils\r\n",
        "from models import faster_rcnn"
      ],
      "execution_count": 27,
      "outputs": []
    },
    {
      "cell_type": "code",
      "metadata": {
        "id": "FMhChZxYzWKI"
      },
      "source": [
        "batch_size = 2\r\n",
        "evaluate = False\r\n",
        "hyper_params = train_utils.get_hyper_params(backbone)\r\n",
        "\r\n",
        "test_data, dataset_info = data_utils.get_dataset(\"voc/2007\", \"test\")\r\n",
        "total_items = data_utils.get_total_item_size(dataset_info, \"test\")\r\n",
        "labels = data_utils.get_labels(dataset_info)\r\n",
        "labels = [\"bg\"] + labels\r\n",
        "hyper_params[\"total_labels\"] = len(labels)\r\n",
        "img_size = hyper_params[\"img_size\"]\r\n",
        "\r\n",
        "data_types = data_utils.get_data_types()\r\n",
        "data_shapes = data_utils.get_data_shapes()\r\n",
        "padding_values = data_utils.get_padding_values()\r\n",
        "test_data = test_data.map(lambda x : data_utils.preprocessing(x, img_size, img_size, evaluate=evaluate))\r\n",
        "#\r\n",
        "test_data = test_data.padded_batch(batch_size, padded_shapes=data_shapes, padding_values=padding_values)"
      ],
      "execution_count": 28,
      "outputs": []
    },
    {
      "cell_type": "code",
      "metadata": {
        "id": "CG2NPOsQ89X-"
      },
      "source": [
        "anchors = bbox_utils.generate_anchors(hyper_params)\r\n",
        "rpn_model, feature_extractor = get_rpn_model(hyper_params)\r\n",
        "frcnn_model = faster_rcnn.get_model(feature_extractor, rpn_model, anchors, hyper_params, mode=\"inference\")\r\n",
        "#\r\n",
        "# frcnn_model_path = '../drive/MyDrive/faster_rcnn_mobilenet_v2_model_weights.h5'\r\n",
        "frcnn_model_path = io_utils.get_model_path(\"faster_rcnn\", backbone)\r\n",
        "frcnn_model.load_weights(frcnn_model_path)\r\n",
        "\r\n",
        "step_size = 5"
      ],
      "execution_count": null,
      "outputs": []
    },
    {
      "cell_type": "code",
      "metadata": {
        "id": "0nzbA_0987eW"
      },
      "source": [
        "pred_bboxes, pred_labels, pred_scores = frcnn_model.predict(test_data, steps=step_size, verbose=1)"
      ],
      "execution_count": null,
      "outputs": []
    },
    {
      "cell_type": "code",
      "metadata": {
        "id": "dbvf9AG-FaHS"
      },
      "source": [
        "print(pred_bboxes)\r\n",
        "print(pred_labels)\r\n",
        "print(pred_scores)"
      ],
      "execution_count": null,
      "outputs": []
    },
    {
      "cell_type": "code",
      "metadata": {
        "id": "fZSgBfBkzWON"
      },
      "source": [
        "drawing_utils.draw_predictions(test_data, pred_bboxes, pred_labels, pred_scores, labels, batch_size)"
      ],
      "execution_count": null,
      "outputs": []
    }
  ]
}